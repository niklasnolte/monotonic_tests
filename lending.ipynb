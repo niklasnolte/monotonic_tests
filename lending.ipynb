{
 "cells": [
  {
   "cell_type": "code",
   "execution_count": 3,
   "metadata": {},
   "outputs": [],
   "source": [
    "import torch\n",
    "import lightgbm as lgb\n",
    "from tqdm import tqdm\n",
    "from loaders.lending_loader import load_data, mono_list\n",
    "from monotonenorm import SigmaNet, GroupSort\n",
    "from sklearn.metrics import balanced_accuracy_score, accuracy_score\n",
    "import numpy as np\n",
    "import mup\n",
    "import pandas as pd\n",
    "\n",
    "device = torch.device(\"cuda:1\" if torch.cuda.is_available() else \"cpu\")"
   ]
  },
  {
   "cell_type": "code",
   "execution_count": 34,
   "metadata": {},
   "outputs": [],
   "source": [
    "Xtr, Ytr, Xts, Yts = load_data(get_categorical_info=False)\n",
    "monotonic_constraints = [int(i in mono_list) for i in range(Xtr.shape[1])]"
   ]
  },
  {
   "cell_type": "code",
   "execution_count": 35,
   "metadata": {},
   "outputs": [
    {
     "data": {
      "text/plain": [
       "LGBMRegressor(max_depth=5,\n",
       "              monotone_constraint=[1, 1, 1, 1, 1, 0, 0, 0, 0, 0, 0, 0, 0, 0, 0,\n",
       "                                   0, 0, 0, 0, 0, 0, 0, 0, 0, 0, 0, 0, 0],\n",
       "              n_estimators=10000)"
      ]
     },
     "execution_count": 35,
     "metadata": {},
     "output_type": "execute_result"
    }
   ],
   "source": [
    "clf = lgb.LGBMRegressor(n_estimators=10000, max_depth=5, learning_rate=.1, monotone_constraint=monotonic_constraints)\n",
    "clf.fit(Xtr, Ytr, early_stopping_rounds=200, eval_set=[(Xts, Yts)], eval_metric='mse', verbose=0)"
   ]
  },
  {
   "cell_type": "code",
   "execution_count": 36,
   "metadata": {},
   "outputs": [
    {
     "name": "stdout",
     "output_type": "stream",
     "text": [
      "Accuracy: 65.9944%, Balanced Accuracy: 66.0154%\n"
     ]
    }
   ],
   "source": [
    "acc, bacc = 0,0\n",
    "for i in np.linspace(0,1,100):\n",
    "  acc = max(acc, accuracy_score(Yts, clf.predict(Xts)>i))\n",
    "  bacc = max(bacc, balanced_accuracy_score(Yts, clf.predict(Xts)>i))\n",
    "print(f\"Accuracy: {acc*100:.4f}%, Balanced Accuracy: {bacc*100:.4f}%\")"
   ]
  },
  {
   "cell_type": "code",
   "execution_count": 37,
   "metadata": {},
   "outputs": [
    {
     "name": "stdout",
     "output_type": "stream",
     "text": [
      "params: 3073\n"
     ]
    }
   ],
   "source": [
    "torch.manual_seed(13)\n",
    "\n",
    "per_layer_lip = 2\n",
    "width = 32\n",
    "\n",
    "class Model(torch.nn.Module):\n",
    "  def __init__(self, width, robust=False, sigma=False):\n",
    "    super().__init__()\n",
    "    if robust:\n",
    "      from monotonenorm import direct_norm\n",
    "      activation = lambda : GroupSort(2)\n",
    "    else:\n",
    "      direct_norm = lambda x, *args, **kwargs: x # make it a normal network\n",
    "      activation = lambda : torch.nn.ReLU()\n",
    "\n",
    "    self.nn = torch.nn.Sequential(\n",
    "      direct_norm(torch.nn.Linear(Xtr.shape[1], width), kind=\"one-inf\", alpha=per_layer_lip),\n",
    "      activation(),\n",
    "      direct_norm(torch.nn.Linear(width, width), kind=\"inf\", alpha=per_layer_lip),\n",
    "      activation(),\n",
    "      direct_norm(torch.nn.Linear(width, width), kind=\"inf\", alpha=per_layer_lip),\n",
    "      activation(),\n",
    "      direct_norm(torch.nn.Linear(width, 1), kind=\"inf\", alpha=per_layer_lip),\n",
    "    )\n",
    "    if sigma:\n",
    "      self.nn = torch.nn.Sequential(\n",
    "        SigmaNet(self.nn, sigma=per_layer_lip**4, monotone_constraints=monotonic_constraints),\n",
    "        torch.nn.Sigmoid()\n",
    "      )\n",
    "  \n",
    "  def forward(self, x):\n",
    "    return self.nn(x)\n",
    "\n",
    "model = Model(width, robust=True, sigma=True)\n",
    "\n",
    "\n",
    "\n",
    "model = model.to(device)\n",
    "\n",
    "optimizer = torch.optim.Adam(model.parameters(), lr=1e-3)\n",
    "print('params:', sum(p.numel() for p in model.parameters()))\n",
    "print(model)"
   ]
  },
  {
   "cell_type": "code",
   "execution_count": 39,
   "metadata": {},
   "outputs": [
    {
     "name": "stderr",
     "output_type": "stream",
     "text": [
      "Loss: 0.6306 0.6356, acc: 0.6525, max_acc: 0.6528:   4%|▍         | 44/1000 [02:51<1:04:05,  4.02s/it]"
     ]
    }
   ],
   "source": [
    "Xtrt = torch.tensor(Xtr, dtype=torch.float32).to(device)\n",
    "Ytrt = torch.tensor(Ytr, dtype=torch.float32).view(-1, 1).to(device)\n",
    "Xtst = torch.tensor(Xts, dtype=torch.float32).to(device)\n",
    "Ytst = torch.tensor(Yts, dtype=torch.float32).view(-1, 1).to(device)\n",
    "\n",
    "#between -1 and 1\n",
    "# min_ = Xtrt.min()\n",
    "# max_ = Xtrt.max()\n",
    "# Xtrt = (Xtrt - min_) / (max_ - min_) * 2 - 1 \n",
    "# Xtst = (Xtst - min_) / (max_ - min_) * 2 - 1\n",
    "\n",
    "#std = 1\n",
    "mean = Xtrt.mean(0)\n",
    "std = Xtrt.std(0)\n",
    "Xtrt = (Xtrt - mean) / std\n",
    "Xtst = (Xtst - mean) / std\n",
    "\n",
    "\n",
    "dataloader = torch.utils.data.DataLoader(torch.utils.data.TensorDataset(Xtrt, Ytrt), batch_size=int(2**9), shuffle=True)\n",
    "max_acc = 0\n",
    "\n",
    "bar = tqdm(range(100))\n",
    "for i in bar:\n",
    "  for Xi, yi in dataloader:\n",
    "    y_pred = model(Xi)\n",
    "    losstr = torch.nn.functional.binary_cross_entropy(y_pred, yi)\n",
    "    optimizer.zero_grad()\n",
    "    losstr.backward()\n",
    "    optimizer.step()\n",
    "    #scheduler.step()\n",
    "\n",
    "  with torch.no_grad():\n",
    "    y_predts = model(Xtst)\n",
    "    lossts = torch.nn.functional.binary_cross_entropy(y_predts, Ytst)\n",
    "    if i % 1 == 0:\n",
    "      acc = 0\n",
    "      for i in np.linspace(0, 1, 50):\n",
    "        acc = max(acc, accuracy_score(Ytst.cpu().numpy(), y_predts.cpu().numpy()>i))\n",
    "\n",
    "    max_acc = max(max_acc, acc)\n",
    "    bar.set_description(f'Loss: {losstr.item():.4f} {lossts.item():.4f}, acc: {acc.item():.4f}, max_acc: {max_acc:.4f}')"
   ]
  }
 ],
 "metadata": {
  "kernelspec": {
   "display_name": "Python 3.9.7 ('pytorch')",
   "language": "python",
   "name": "python3"
  },
  "language_info": {
   "codemirror_mode": {
    "name": "ipython",
    "version": 3
   },
   "file_extension": ".py",
   "mimetype": "text/x-python",
   "name": "python",
   "nbconvert_exporter": "python",
   "pygments_lexer": "ipython3",
   "version": "3.9.7"
  },
  "orig_nbformat": 4,
  "vscode": {
   "interpreter": {
    "hash": "9f66b475c7f3c7893d2633464dcd70b93c7a03e563e2680bf00b3479051dc13c"
   }
  }
 },
 "nbformat": 4,
 "nbformat_minor": 2
}
